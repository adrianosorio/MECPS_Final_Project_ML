{
  "nbformat": 4,
  "nbformat_minor": 0,
  "metadata": {
    "colab": {
      "provenance": [],
      "authorship_tag": "ABX9TyOe/MfLzjkUW7mwwrYphWAv",
      "include_colab_link": true
    },
    "kernelspec": {
      "name": "python3",
      "display_name": "Python 3"
    },
    "language_info": {
      "name": "python"
    }
  },
  "cells": [
    {
      "cell_type": "markdown",
      "metadata": {
        "id": "view-in-github",
        "colab_type": "text"
      },
      "source": [
        "<a href=\"https://colab.research.google.com/github/adrianosorio/MECPS_Final_Project_ML/blob/Neural_Network_Structure_shakthi/Neural_Network_1.ipynb\" target=\"_parent\"><img src=\"https://colab.research.google.com/assets/colab-badge.svg\" alt=\"Open In Colab\"/></a>"
      ]
    },
    {
      "cell_type": "code",
      "execution_count": 89,
      "metadata": {
        "id": "Sph5mH21smbO"
      },
      "outputs": [],
      "source": [
        "# ML Imports\n",
        "import pandas as pd\n",
        "import numpy as np\n",
        "import tensorflow as tf\n",
        "from tensorflow.keras import datasets, layers, models"
      ]
    },
    {
      "cell_type": "code",
      "source": [
        "# Read in Train Data Set\n",
        "train_data_x = pd.read_csv(\"HAPT/Train/X_train.txt\", sep=\" \", header=None)\n",
        "train_data_y = pd.read_csv(\"HAPT/Train/y_train.txt\", sep=\" \", header=None, names = [\"y\"])\n"
      ],
      "metadata": {
        "id": "ND7Qi5ruVlVP"
      },
      "execution_count": 90,
      "outputs": []
    },
    {
      "cell_type": "code",
      "source": [
        "# Read in Test Data Set\n",
        "test_data_x = pd.read_csv(\"HAPT/Test/X_test.txt\", sep=\" \", header=None)\n",
        "test_data_y = pd.read_csv(\"HAPT/Test/y_test.txt\", sep=\" \", header=None, names = [\"y\"])"
      ],
      "metadata": {
        "id": "IunufAdR11gL"
      },
      "execution_count": 91,
      "outputs": []
    },
    {
      "cell_type": "code",
      "source": [
        "combined_data_xy = pd.concat([train_data_x, train_data_y], axis=1, join='inner')\n",
        "shuffled_data_xy = combined_data_xy.sample(frac=1, random_state=1).reset_index() # Randomization is reproducible right now\n",
        "# Split Data Set Again\n",
        "train_data_x = pd.DataFrame(shuffled_data_xy, columns=list(range(0,561)))\n",
        "train_data_y = pd.DataFrame(shuffled_data_xy, columns=['y'])\n"
      ],
      "metadata": {
        "id": "F06YW9ifVv4-"
      },
      "execution_count": 92,
      "outputs": []
    },
    {
      "cell_type": "code",
      "source": [
        "combined_data1_xy = pd.concat([test_data_x, test_data_y], axis=1, join='inner')\n",
        "shuffled_data1_xy = combined_data_xy.sample(frac=1, random_state=1).reset_index() # Randomization is reproducible right now\n",
        "# Split Data Set Again\n",
        "test_data_x = pd.DataFrame(shuffled_data1_xy, columns=list(range(0,561)))\n",
        "test_data_y = pd.DataFrame(shuffled_data1_xy, columns=['y'])"
      ],
      "metadata": {
        "id": "30F_uvr62lMo"
      },
      "execution_count": 93,
      "outputs": []
    },
    {
      "cell_type": "code",
      "source": [
        "print(train_data_x.head()) # Grabs first entry in the dataframe\n",
        "print(train_data_y.head()) # Grabs first entry in the dataframe\n"
      ],
      "metadata": {
        "id": "OMAHcZEEVy4z",
        "colab": {
          "base_uri": "https://localhost:8080/"
        },
        "outputId": "51245270-0821-4def-c5fc-991dd6340aa5"
      },
      "execution_count": 94,
      "outputs": [
        {
          "output_type": "stream",
          "name": "stdout",
          "text": [
            "        0         1         2         3         4         5         6    \\\n",
            "0  0.053196 -0.003098 -0.010655 -0.403796 -0.402836 -0.425150 -0.475220   \n",
            "1  0.037819 -0.003904 -0.015017 -0.994648 -0.997604 -0.995550 -0.995272   \n",
            "2  0.040917 -0.002189 -0.015174 -0.992943 -0.982536 -0.951265 -0.993830   \n",
            "3 -0.048778  0.138520  0.125655 -0.829078 -0.774498 -0.604445 -0.824706   \n",
            "4  0.023531  0.021643 -0.017850 -0.197319 -0.205305 -0.472853 -0.283091   \n",
            "\n",
            "        7         8         9    ...       551       552       553       554  \\\n",
            "0 -0.420628 -0.505352 -0.112246  ...  0.310320 -0.733347 -0.898479 -0.355769   \n",
            "1 -0.998161 -0.996189 -0.800979  ...  0.550666 -0.765162 -0.935663 -0.094668   \n",
            "2 -0.983548 -0.954652 -0.787094  ... -0.077928 -0.583060 -0.870028 -0.128582   \n",
            "3 -0.757619 -0.631242 -0.755319  ... -0.133611 -0.313426 -0.678482  0.164486   \n",
            "4 -0.290730 -0.548919  0.019533  ...  0.156970 -0.063261 -0.424907  0.541092   \n",
            "\n",
            "        555       556       557       558       559       560  \n",
            "0  0.553913  0.970853 -0.498300 -0.491800  0.292315  0.319482  \n",
            "1 -0.489761  0.296426 -0.197174  0.392172 -0.651061 -0.308474  \n",
            "2  0.339962 -0.869047  0.271347 -0.692559  0.290720  0.115760  \n",
            "3 -0.147200  0.377053  0.078539 -0.821802  0.067347 -0.101583  \n",
            "4  0.656546  0.233713 -0.033152 -0.701628  0.293340  0.092400  \n",
            "\n",
            "[5 rows x 561 columns]\n",
            "   y\n",
            "0  2\n",
            "1  6\n",
            "2  4\n",
            "3  4\n",
            "4  1\n"
          ]
        }
      ]
    },
    {
      "cell_type": "code",
      "source": [
        "test_data_x1 = test_data_x.values\n",
        "test_data_x1 = test_data_x1.reshape(test_data_x1.shape[0], test_data_x1.shape[1], 1)"
      ],
      "metadata": {
        "id": "ylUTRil9JmY-"
      },
      "execution_count": 95,
      "outputs": []
    },
    {
      "cell_type": "code",
      "source": [
        "model = models.Sequential()\n",
        "#model.add( layers.Input(shape=(561)))\n",
        "#model.add( layers.Conv1D(64, 3, activation=\"tanh\"))\n",
        "model.add(layers.Conv1D(32, activation='relu', input_shape=(561,1), kernel_size=(3)))\n",
        "model.add(layers.Dropout(0.1))\n",
        "#model.add( layers.Conv1D(32, 3, activation=\"tanh\"))\n",
        "model.add(layers.Dropout(0.2))\n",
        "model.add(layers.Flatten())\n",
        "model.add( layers.Dense(13, activation=\"relu\"))\n",
        "#model.summary()"
      ],
      "metadata": {
        "id": "oRHGscf1zK2f"
      },
      "execution_count": 101,
      "outputs": []
    },
    {
      "cell_type": "code",
      "source": [
        "model.compile(optimizer=tf.keras.optimizers.SGD(), loss=\"sparse_categorical_crossentropy\", metrics=[\"accuracy\"])"
      ],
      "metadata": {
        "id": "cazYEWT5yJRV"
      },
      "execution_count": 102,
      "outputs": []
    },
    {
      "cell_type": "code",
      "source": [
        "print(test_data_x.shape)"
      ],
      "metadata": {
        "colab": {
          "base_uri": "https://localhost:8080/"
        },
        "id": "v-oL5M0I52iI",
        "outputId": "e0af6874-b550-47ad-b72c-810a6aab6a94"
      },
      "execution_count": 103,
      "outputs": [
        {
          "output_type": "stream",
          "name": "stdout",
          "text": [
            "(7767, 561)\n"
          ]
        }
      ]
    },
    {
      "cell_type": "code",
      "source": [
        "model.fit(train_data_x, train_data_y, epochs=20, verbose = 2, validation_data=(test_data_x, test_data_y), validation_freq = 5)"
      ],
      "metadata": {
        "id": "6I7oDWLT0Bd4",
        "colab": {
          "base_uri": "https://localhost:8080/"
        },
        "outputId": "16bb7303-f0eb-4e35-973b-e4af558060b9"
      },
      "execution_count": 104,
      "outputs": [
        {
          "output_type": "stream",
          "name": "stdout",
          "text": [
            "Epoch 1/20\n",
            "243/243 - 6s - loss: 9.9641 - accuracy: 0.2160 - 6s/epoch - 24ms/step\n",
            "Epoch 2/20\n",
            "243/243 - 6s - loss: 9.9409 - accuracy: 0.2455 - 6s/epoch - 23ms/step\n",
            "Epoch 3/20\n",
            "243/243 - 5s - loss: 9.9404 - accuracy: 0.2794 - 5s/epoch - 22ms/step\n",
            "Epoch 4/20\n",
            "243/243 - 5s - loss: 9.8026 - accuracy: 0.1766 - 5s/epoch - 22ms/step\n",
            "Epoch 5/20\n",
            "243/243 - 7s - loss: 9.7066 - accuracy: 0.1313 - val_loss: 9.6799 - val_accuracy: 0.1271 - 7s/epoch - 27ms/step\n",
            "Epoch 6/20\n",
            "243/243 - 5s - loss: 9.3504 - accuracy: 0.1306 - 5s/epoch - 22ms/step\n",
            "Epoch 7/20\n",
            "243/243 - 6s - loss: 9.2172 - accuracy: 0.1345 - 6s/epoch - 27ms/step\n",
            "Epoch 8/20\n",
            "243/243 - 5s - loss: 9.5573 - accuracy: 0.1634 - 5s/epoch - 22ms/step\n",
            "Epoch 9/20\n",
            "243/243 - 5s - loss: 9.6156 - accuracy: 0.1684 - 5s/epoch - 22ms/step\n",
            "Epoch 10/20\n",
            "243/243 - 7s - loss: 9.6130 - accuracy: 0.1680 - val_loss: 9.6102 - val_accuracy: 0.1680 - 7s/epoch - 27ms/step\n",
            "Epoch 11/20\n",
            "243/243 - 5s - loss: 9.6103 - accuracy: 0.1678 - 5s/epoch - 22ms/step\n",
            "Epoch 12/20\n",
            "243/243 - 5s - loss: 9.6094 - accuracy: 0.1681 - 5s/epoch - 22ms/step\n",
            "Epoch 13/20\n",
            "243/243 - 5s - loss: 9.6083 - accuracy: 0.1678 - 5s/epoch - 22ms/step\n",
            "Epoch 14/20\n",
            "243/243 - 5s - loss: 9.6073 - accuracy: 0.1680 - 5s/epoch - 22ms/step\n",
            "Epoch 15/20\n",
            "243/243 - 7s - loss: 9.6069 - accuracy: 0.1676 - val_loss: 9.6051 - val_accuracy: 0.1676 - 7s/epoch - 27ms/step\n",
            "Epoch 16/20\n",
            "243/243 - 5s - loss: 9.6063 - accuracy: 0.1676 - 5s/epoch - 21ms/step\n",
            "Epoch 17/20\n",
            "243/243 - 5s - loss: 9.6066 - accuracy: 0.1676 - 5s/epoch - 22ms/step\n",
            "Epoch 18/20\n",
            "243/243 - 5s - loss: 7.1601 - accuracy: 0.1836 - 5s/epoch - 22ms/step\n",
            "Epoch 19/20\n",
            "243/243 - 5s - loss: 7.0595 - accuracy: 0.1819 - 5s/epoch - 22ms/step\n",
            "Epoch 20/20\n",
            "243/243 - 7s - loss: 7.0591 - accuracy: 0.1819 - val_loss: 7.0576 - val_accuracy: 0.1819 - 7s/epoch - 27ms/step\n"
          ]
        },
        {
          "output_type": "execute_result",
          "data": {
            "text/plain": [
              "<keras.callbacks.History at 0x7fd05281ee90>"
            ]
          },
          "metadata": {},
          "execution_count": 104
        }
      ]
    },
    {
      "cell_type": "code",
      "source": [
        "test_loss, test_acc = model.evaluate(test_data_x,  test_data_y, verbose=2)"
      ],
      "metadata": {
        "id": "pjlO-s0O3fy5",
        "colab": {
          "base_uri": "https://localhost:8080/"
        },
        "outputId": "07c2c629-a9bb-458c-cf09-4e508dd8be7c"
      },
      "execution_count": 105,
      "outputs": [
        {
          "output_type": "stream",
          "name": "stdout",
          "text": [
            "243/243 - 1s - loss: 7.0576 - accuracy: 0.1819 - 1s/epoch - 4ms/step\n"
          ]
        }
      ]
    }
  ]
}