{
  "cells": [
    {
      "cell_type": "markdown",
      "metadata": {
        "id": "view-in-github",
        "colab_type": "text"
      },
      "source": [
        "<a href=\"https://colab.research.google.com/github/adrianosorio/MECPS_Final_Project_ML/blob/Neural_Network_Structure_shakthi/Untitled4.ipynb\" target=\"_parent\"><img src=\"https://colab.research.google.com/assets/colab-badge.svg\" alt=\"Open In Colab\"/></a>"
      ]
    },
    {
      "cell_type": "code",
      "execution_count": 1,
      "metadata": {
        "id": "Sph5mH21smbO"
      },
      "outputs": [],
      "source": [
        "# ML Imports\n",
        "import pandas as pd\n",
        "import numpy as np\n",
        "import tensorflow as tf\n",
        "from tensorflow.keras import datasets, layers, models\n",
        "tf.config.run_functions_eagerly(True)\n",
        "tf.data.experimental.enable_debug_mode()"
      ]
    },
    {
      "cell_type": "code",
      "execution_count": 2,
      "metadata": {
        "id": "ND7Qi5ruVlVP"
      },
      "outputs": [],
      "source": [
        "# Read in Train Data Set\n",
        "train_data_x = pd.read_csv(\"HAPT/Train/X_train.txt\", sep=\" \", header=None)\n",
        "train_data_y = pd.read_csv(\"HAPT/Train/y_train.txt\", sep=\" \", header=None, names = [\"y\"])\n"
      ]
    },
    {
      "cell_type": "code",
      "execution_count": 3,
      "metadata": {
        "id": "IunufAdR11gL"
      },
      "outputs": [],
      "source": [
        "# Read in Test Data Set\n",
        "test_data_x = pd.read_csv(\"HAPT/Test/X_test.txt\", sep=\" \", header=None)\n",
        "test_data_y = pd.read_csv(\"HAPT/Test/y_test.txt\", sep=\" \", header=None, names = [\"y\"])"
      ]
    },
    {
      "cell_type": "code",
      "execution_count": 4,
      "metadata": {
        "id": "F06YW9ifVv4-"
      },
      "outputs": [],
      "source": [
        "combined_data_xy = pd.concat([train_data_x, train_data_y], axis=1, join='inner')\n",
        "shuffled_data_xy = combined_data_xy.sample(frac=1, random_state=1).reset_index() # Randomization is reproducible right now\n",
        "# Split Data Set Again\n",
        "train_data_x = pd.DataFrame(shuffled_data_xy, columns=list(range(0,561)))\n",
        "train_data_y = pd.DataFrame(shuffled_data_xy, columns=['y'])\n"
      ]
    },
    {
      "cell_type": "code",
      "execution_count": 5,
      "metadata": {
        "id": "30F_uvr62lMo"
      },
      "outputs": [],
      "source": [
        "combined_data1_xy = pd.concat([test_data_x, test_data_y], axis=1, join='inner')\n",
        "shuffled_data1_xy = combined_data_xy.sample(frac=1, random_state=1).reset_index() # Randomization is reproducible right now\n",
        "# Split Data Set Again\n",
        "test_data_x = pd.DataFrame(shuffled_data1_xy, columns=list(range(0,561)))\n",
        "test_data_y = pd.DataFrame(shuffled_data1_xy, columns=['y'])"
      ]
    },
    {
      "cell_type": "code",
      "execution_count": 6,
      "metadata": {
        "colab": {
          "base_uri": "https://localhost:8080/"
        },
        "id": "OMAHcZEEVy4z",
        "outputId": "70b94257-aa81-4453-bd04-3de9a6673e66"
      },
      "outputs": [
        {
          "output_type": "stream",
          "name": "stdout",
          "text": [
            "        0         1         2         3         4         5         6    \\\n",
            "0  0.053196 -0.003098 -0.010655 -0.403796 -0.402836 -0.425150 -0.475220   \n",
            "1  0.037819 -0.003904 -0.015017 -0.994648 -0.997604 -0.995550 -0.995272   \n",
            "2  0.040917 -0.002189 -0.015174 -0.992943 -0.982536 -0.951265 -0.993830   \n",
            "3 -0.048778  0.138520  0.125655 -0.829078 -0.774498 -0.604445 -0.824706   \n",
            "4  0.023531  0.021643 -0.017850 -0.197319 -0.205305 -0.472853 -0.283091   \n",
            "\n",
            "        7         8         9    ...       551       552       553       554  \\\n",
            "0 -0.420628 -0.505352 -0.112246  ...  0.310320 -0.733347 -0.898479 -0.355769   \n",
            "1 -0.998161 -0.996189 -0.800979  ...  0.550666 -0.765162 -0.935663 -0.094668   \n",
            "2 -0.983548 -0.954652 -0.787094  ... -0.077928 -0.583060 -0.870028 -0.128582   \n",
            "3 -0.757619 -0.631242 -0.755319  ... -0.133611 -0.313426 -0.678482  0.164486   \n",
            "4 -0.290730 -0.548919  0.019533  ...  0.156970 -0.063261 -0.424907  0.541092   \n",
            "\n",
            "        555       556       557       558       559       560  \n",
            "0  0.553913  0.970853 -0.498300 -0.491800  0.292315  0.319482  \n",
            "1 -0.489761  0.296426 -0.197174  0.392172 -0.651061 -0.308474  \n",
            "2  0.339962 -0.869047  0.271347 -0.692559  0.290720  0.115760  \n",
            "3 -0.147200  0.377053  0.078539 -0.821802  0.067347 -0.101583  \n",
            "4  0.656546  0.233713 -0.033152 -0.701628  0.293340  0.092400  \n",
            "\n",
            "[5 rows x 561 columns]\n",
            "   y\n",
            "0  2\n",
            "1  6\n",
            "2  4\n",
            "3  4\n",
            "4  1\n"
          ]
        }
      ],
      "source": [
        "print(train_data_x.head()) # Grabs first entry in the dataframe\n",
        "print(train_data_y.head()) # Grabs first entry in the dataframe\n"
      ]
    },
    {
      "cell_type": "code",
      "execution_count": 7,
      "metadata": {
        "id": "ylUTRil9JmY-"
      },
      "outputs": [],
      "source": [
        "train_data_x1 = train_data_x.values\n",
        "train_data_x1 = train_data_x1.reshape(train_data_x1.shape[0], train_data_x1.shape[1], 1)"
      ]
    },
    {
      "cell_type": "code",
      "execution_count": 27,
      "metadata": {
        "id": "oRHGscf1zK2f"
      },
      "outputs": [],
      "source": [
        "#def Model_1(): #Base model\n",
        "model = models.Sequential()\n",
        "model.add(layers.Conv1D(64, activation='tanh',  kernel_size=(3)))\n",
        "model.add(layers.Conv1D(32, activation='tanh',  kernel_size=(3)))\n",
        "model.add(layers.Flatten())\n",
        "model.add( layers.Dense(64, activation=\"relu\") )\n",
        "model.add( layers.Dense(128, activation=\"sigmoid\") )\n",
        "model.add( layers.Dense(13, activation=\"sigmoid\") )\n",
        " # return model"
      ]
    },
    {
      "cell_type": "code",
      "execution_count": 29,
      "metadata": {
        "id": "cazYEWT5yJRV"
      },
      "outputs": [],
      "source": [
        "model.compile(optimizer=tf.keras.optimizers.SGD(), loss=\"sparse_categorical_crossentropy\", metrics=[\"accuracy\"])"
      ]
    },
    {
      "cell_type": "code",
      "execution_count": 25,
      "metadata": {
        "colab": {
          "base_uri": "https://localhost:8080/"
        },
        "id": "v-oL5M0I52iI",
        "outputId": "d3407c2e-e771-4042-e4bb-03594192a553"
      },
      "outputs": [
        {
          "output_type": "stream",
          "name": "stdout",
          "text": [
            "(7767, 561, 1)\n"
          ]
        }
      ],
      "source": [
        "print(train_data_x1.shape)"
      ]
    },
    {
      "cell_type": "code",
      "execution_count": 30,
      "metadata": {
        "colab": {
          "base_uri": "https://localhost:8080/"
        },
        "id": "6I7oDWLT0Bd4",
        "outputId": "ded5711a-e7be-43cd-cd0c-ef036e96ddc9"
      },
      "outputs": [
        {
          "output_type": "stream",
          "name": "stdout",
          "text": [
            "Epoch 1/20\n",
            "389/389 - 23s - loss: 1.5117 - accuracy: 0.4863 - 23s/epoch - 60ms/step\n",
            "Epoch 2/20\n",
            "389/389 - 23s - loss: 0.8389 - accuracy: 0.7645 - 23s/epoch - 59ms/step\n",
            "Epoch 3/20\n",
            "389/389 - 24s - loss: 0.5339 - accuracy: 0.8337 - 24s/epoch - 62ms/step\n",
            "Epoch 4/20\n",
            "389/389 - 23s - loss: 0.3968 - accuracy: 0.8658 - 23s/epoch - 60ms/step\n",
            "Epoch 5/20\n",
            "389/389 - 33s - loss: 0.3267 - accuracy: 0.8852 - val_loss: 0.2925 - val_accuracy: 0.9031 - 33s/epoch - 84ms/step\n",
            "Epoch 6/20\n",
            "389/389 - 24s - loss: 0.2759 - accuracy: 0.9042 - 24s/epoch - 63ms/step\n",
            "Epoch 7/20\n",
            "389/389 - 23s - loss: 0.2424 - accuracy: 0.9168 - 23s/epoch - 60ms/step\n",
            "Epoch 8/20\n",
            "389/389 - 23s - loss: 0.2099 - accuracy: 0.9291 - 23s/epoch - 59ms/step\n",
            "Epoch 9/20\n",
            "389/389 - 23s - loss: 0.1896 - accuracy: 0.9381 - 23s/epoch - 59ms/step\n",
            "Epoch 10/20\n",
            "389/389 - 32s - loss: 0.1761 - accuracy: 0.9392 - val_loss: 0.2828 - val_accuracy: 0.8831 - 32s/epoch - 81ms/step\n",
            "Epoch 11/20\n",
            "389/389 - 23s - loss: 0.1588 - accuracy: 0.9459 - 23s/epoch - 59ms/step\n",
            "Epoch 12/20\n",
            "389/389 - 23s - loss: 0.1500 - accuracy: 0.9471 - 23s/epoch - 59ms/step\n",
            "Epoch 13/20\n",
            "389/389 - 23s - loss: 0.1363 - accuracy: 0.9534 - 23s/epoch - 59ms/step\n",
            "Epoch 14/20\n",
            "389/389 - 24s - loss: 0.1275 - accuracy: 0.9576 - 24s/epoch - 63ms/step\n",
            "Epoch 15/20\n",
            "389/389 - 33s - loss: 0.1201 - accuracy: 0.9597 - val_loss: 0.1058 - val_accuracy: 0.9670 - 33s/epoch - 86ms/step\n",
            "Epoch 16/20\n",
            "389/389 - 23s - loss: 0.1158 - accuracy: 0.9630 - 23s/epoch - 59ms/step\n",
            "Epoch 17/20\n",
            "389/389 - 23s - loss: 0.1111 - accuracy: 0.9628 - 23s/epoch - 59ms/step\n",
            "Epoch 18/20\n",
            "389/389 - 23s - loss: 0.1057 - accuracy: 0.9632 - 23s/epoch - 60ms/step\n",
            "Epoch 19/20\n",
            "389/389 - 24s - loss: 0.0957 - accuracy: 0.9692 - 24s/epoch - 61ms/step\n",
            "Epoch 20/20\n",
            "389/389 - 33s - loss: 0.0976 - accuracy: 0.9672 - val_loss: 0.0806 - val_accuracy: 0.9746 - 33s/epoch - 84ms/step\n"
          ]
        },
        {
          "output_type": "execute_result",
          "data": {
            "text/plain": [
              "<keras.callbacks.History at 0x7fda7e0dfad0>"
            ]
          },
          "metadata": {},
          "execution_count": 30
        }
      ],
      "source": [
        "model.fit(train_data_x1, train_data_y, epochs=20, verbose = 2, batch_size=20, validation_data=(test_data_x, test_data_y), validation_freq = 5)"
      ]
    },
    {
      "cell_type": "code",
      "execution_count": 31,
      "metadata": {
        "colab": {
          "base_uri": "https://localhost:8080/"
        },
        "id": "pjlO-s0O3fy5",
        "outputId": "639bd3cf-05cc-4ece-edfb-72eeb05e5246"
      },
      "outputs": [
        {
          "output_type": "stream",
          "name": "stdout",
          "text": [
            "243/243 - 7s - loss: 0.0806 - accuracy: 0.9746 - 7s/epoch - 30ms/step\n"
          ]
        }
      ],
      "source": [
        "test_loss, test_acc = model.evaluate(test_data_x,  test_data_y, verbose=2)"
      ]
    },
    {
      "cell_type": "code",
      "source": [
        "pred_out = model.predict(test_data_x)\n",
        "pred_labels = np.argmax(pred_out,axis=1)\n",
        "print(pred_labels)"
      ],
      "metadata": {
        "colab": {
          "base_uri": "https://localhost:8080/"
        },
        "id": "3LWGRvq7HZtt",
        "outputId": "5512d53a-4d6b-42e0-8699-2195e185146c"
      },
      "execution_count": 32,
      "outputs": [
        {
          "output_type": "stream",
          "name": "stdout",
          "text": [
            "243/243 [==============================] - 7s 27ms/step\n",
            "[2 6 5 ... 3 6 3]\n"
          ]
        }
      ]
    },
    {
      "cell_type": "code",
      "source": [
        "print(test_data_y)"
      ],
      "metadata": {
        "colab": {
          "base_uri": "https://localhost:8080/"
        },
        "id": "9gC1-zr-MQHn",
        "outputId": "3c2f3bf5-f75a-44f9-a2eb-a56c52cf137c"
      },
      "execution_count": 33,
      "outputs": [
        {
          "output_type": "stream",
          "name": "stdout",
          "text": [
            "      y\n",
            "0     2\n",
            "1     6\n",
            "2     4\n",
            "3     4\n",
            "4     1\n",
            "...  ..\n",
            "7762  5\n",
            "7763  4\n",
            "7764  3\n",
            "7765  6\n",
            "7766  3\n",
            "\n",
            "[7767 rows x 1 columns]\n"
          ]
        }
      ]
    }
  ],
  "metadata": {
    "colab": {
      "provenance": [],
      "authorship_tag": "ABX9TyPPlzsIxSjp2fzHbSYRCDuS",
      "include_colab_link": true
    },
    "kernelspec": {
      "display_name": "Python 3",
      "name": "python3"
    },
    "language_info": {
      "name": "python"
    }
  },
  "nbformat": 4,
  "nbformat_minor": 0
}