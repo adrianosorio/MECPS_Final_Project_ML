{
  "cells": [
    {
      "cell_type": "markdown",
      "metadata": {
        "id": "view-in-github",
        "colab_type": "text"
      },
      "source": [
        "<a href=\"https://colab.research.google.com/github/adrianosorio/MECPS_Final_Project_ML/blob/Neural_Network_Structure_shakthi/Untitled4.ipynb\" target=\"_parent\"><img src=\"https://colab.research.google.com/assets/colab-badge.svg\" alt=\"Open In Colab\"/></a>"
      ]
    },
    {
      "cell_type": "code",
      "execution_count": 1,
      "metadata": {
        "id": "Sph5mH21smbO"
      },
      "outputs": [],
      "source": [
        "# ML Imports\n",
        "import pandas as pd\n",
        "import numpy as np\n",
        "import tensorflow as tf\n",
        "from tensorflow.keras import datasets, layers, models\n",
        "tf.config.run_functions_eagerly(True)\n",
        "tf.data.experimental.enable_debug_mode()"
      ]
    },
    {
      "cell_type": "code",
      "execution_count": 2,
      "metadata": {
        "id": "ND7Qi5ruVlVP"
      },
      "outputs": [],
      "source": [
        "# Read in Train Data Set\n",
        "train_data_x = pd.read_csv(\"HAPT/Train/X_train.txt\", sep=\" \", header=None)\n",
        "train_data_y = pd.read_csv(\"HAPT/Train/y_train.txt\", sep=\" \", header=None, names = [\"y\"])\n"
      ]
    },
    {
      "cell_type": "code",
      "execution_count": 3,
      "metadata": {
        "id": "IunufAdR11gL"
      },
      "outputs": [],
      "source": [
        "# Read in Test Data Set\n",
        "test_data_x = pd.read_csv(\"HAPT/Test/X_test.txt\", sep=\" \", header=None)\n",
        "test_data_y = pd.read_csv(\"HAPT/Test/y_test.txt\", sep=\" \", header=None, names = [\"y\"])"
      ]
    },
    {
      "cell_type": "code",
      "execution_count": 4,
      "metadata": {
        "id": "F06YW9ifVv4-"
      },
      "outputs": [],
      "source": [
        "combined_data_xy = pd.concat([train_data_x, train_data_y], axis=1, join='inner')\n",
        "shuffled_data_xy = combined_data_xy.sample(frac=1, random_state=1).reset_index() # Randomization is reproducible right now\n",
        "# Split Data Set Again\n",
        "train_data_x = pd.DataFrame(shuffled_data_xy, columns=list(range(0,561)))\n",
        "train_data_y = pd.DataFrame(shuffled_data_xy, columns=['y'])\n"
      ]
    },
    {
      "cell_type": "code",
      "execution_count": 5,
      "metadata": {
        "id": "30F_uvr62lMo"
      },
      "outputs": [],
      "source": [
        "combined_data1_xy = pd.concat([test_data_x, test_data_y], axis=1, join='inner')\n",
        "shuffled_data1_xy = combined_data_xy.sample(frac=1, random_state=1).reset_index() # Randomization is reproducible right now\n",
        "# Split Data Set Again\n",
        "test_data_x = pd.DataFrame(shuffled_data1_xy, columns=list(range(0,561)))\n",
        "test_data_y = pd.DataFrame(shuffled_data1_xy, columns=['y'])"
      ]
    },
    {
      "cell_type": "code",
      "execution_count": 6,
      "metadata": {
        "colab": {
          "base_uri": "https://localhost:8080/"
        },
        "id": "OMAHcZEEVy4z",
        "outputId": "684e1dec-8ae6-4952-f483-7c5e7c92f7aa"
      },
      "outputs": [
        {
          "output_type": "stream",
          "name": "stdout",
          "text": [
            "        0         1         2         3         4         5         6    \\\n",
            "0  0.053196 -0.003098 -0.010655 -0.403796 -0.402836 -0.425150 -0.475220   \n",
            "1  0.037819 -0.003904 -0.015017 -0.994648 -0.997604 -0.995550 -0.995272   \n",
            "2  0.040917 -0.002189 -0.015174 -0.992943 -0.982536 -0.951265 -0.993830   \n",
            "3 -0.048778  0.138520  0.125655 -0.829078 -0.774498 -0.604445 -0.824706   \n",
            "4  0.023531  0.021643 -0.017850 -0.197319 -0.205305 -0.472853 -0.283091   \n",
            "\n",
            "        7         8         9    ...       551       552       553       554  \\\n",
            "0 -0.420628 -0.505352 -0.112246  ...  0.310320 -0.733347 -0.898479 -0.355769   \n",
            "1 -0.998161 -0.996189 -0.800979  ...  0.550666 -0.765162 -0.935663 -0.094668   \n",
            "2 -0.983548 -0.954652 -0.787094  ... -0.077928 -0.583060 -0.870028 -0.128582   \n",
            "3 -0.757619 -0.631242 -0.755319  ... -0.133611 -0.313426 -0.678482  0.164486   \n",
            "4 -0.290730 -0.548919  0.019533  ...  0.156970 -0.063261 -0.424907  0.541092   \n",
            "\n",
            "        555       556       557       558       559       560  \n",
            "0  0.553913  0.970853 -0.498300 -0.491800  0.292315  0.319482  \n",
            "1 -0.489761  0.296426 -0.197174  0.392172 -0.651061 -0.308474  \n",
            "2  0.339962 -0.869047  0.271347 -0.692559  0.290720  0.115760  \n",
            "3 -0.147200  0.377053  0.078539 -0.821802  0.067347 -0.101583  \n",
            "4  0.656546  0.233713 -0.033152 -0.701628  0.293340  0.092400  \n",
            "\n",
            "[5 rows x 561 columns]\n",
            "   y\n",
            "0  2\n",
            "1  6\n",
            "2  4\n",
            "3  4\n",
            "4  1\n"
          ]
        }
      ],
      "source": [
        "print(train_data_x.head()) # Grabs first entry in the dataframe\n",
        "print(train_data_y.head()) # Grabs first entry in the dataframe\n"
      ]
    },
    {
      "cell_type": "code",
      "execution_count": 7,
      "metadata": {
        "id": "ylUTRil9JmY-"
      },
      "outputs": [],
      "source": [
        "train_data_x1 = train_data_x.values\n",
        "train_data_x1 = train_data_x1.reshape(train_data_x1.shape[0], train_data_x1.shape[1], 1)"
      ]
    },
    {
      "cell_type": "code",
      "execution_count": 11,
      "metadata": {
        "id": "oRHGscf1zK2f"
      },
      "outputs": [],
      "source": [
        "#def Model_1(): #Base model\n",
        "model = models.Sequential()\n",
        "model.add(layers.Conv1D(64, activation='tanh', input_shape=(561,1), kernel_size=(3)))\n",
        "model.add(layers.Conv1D(32, activation='tanh',  kernel_size=(3)))\n",
        "model.add(layers.Flatten())\n",
        "model.add( layers.Dense(64, activation=\"relu\") )\n",
        "model.add( layers.Dense(128, activation=\"sigmoid\") )\n",
        "model.add( layers.Dense(13, activation=\"sigmoid\") )\n",
        " # return model"
      ]
    },
    {
      "cell_type": "code",
      "execution_count": 12,
      "metadata": {
        "id": "cazYEWT5yJRV"
      },
      "outputs": [],
      "source": [
        "model.compile(optimizer=tf.keras.optimizers.SGD(), loss=\"sparse_categorical_crossentropy\", metrics=[\"accuracy\"])"
      ]
    },
    {
      "cell_type": "code",
      "execution_count": 9,
      "metadata": {
        "colab": {
          "base_uri": "https://localhost:8080/",
          "height": 165
        },
        "id": "v-oL5M0I52iI",
        "outputId": "a2977cce-c409-43a0-fdfd-00868ddf8615"
      },
      "outputs": [
        {
          "output_type": "error",
          "ename": "NameError",
          "evalue": "ignored",
          "traceback": [
            "\u001b[0;31m---------------------------------------------------------------------------\u001b[0m",
            "\u001b[0;31mNameError\u001b[0m                                 Traceback (most recent call last)",
            "\u001b[0;32m<ipython-input-9-9a5430eab4cd>\u001b[0m in \u001b[0;36m<module>\u001b[0;34m\u001b[0m\n\u001b[0;32m----> 1\u001b[0;31m \u001b[0mprint\u001b[0m\u001b[0;34m(\u001b[0m\u001b[0mtrain_data_x1\u001b[0m\u001b[0;34m.\u001b[0m\u001b[0mshape\u001b[0m\u001b[0;34m)\u001b[0m\u001b[0;34m\u001b[0m\u001b[0;34m\u001b[0m\u001b[0m\n\u001b[0m",
            "\u001b[0;31mNameError\u001b[0m: name 'train_data_x1' is not defined"
          ]
        }
      ],
      "source": [
        "print(train_data_x1.shape)"
      ]
    },
    {
      "cell_type": "code",
      "execution_count": 13,
      "metadata": {
        "colab": {
          "base_uri": "https://localhost:8080/"
        },
        "id": "6I7oDWLT0Bd4",
        "outputId": "edba80eb-fc20-4ee3-cfdb-957f1ce383ed"
      },
      "outputs": [
        {
          "output_type": "stream",
          "name": "stdout",
          "text": [
            "Epoch 1/20\n",
            "389/389 - 22s - loss: 1.5440 - accuracy: 0.4747 - 22s/epoch - 57ms/step\n",
            "Epoch 2/20\n",
            "389/389 - 22s - loss: 0.8285 - accuracy: 0.7654 - 22s/epoch - 57ms/step\n",
            "Epoch 3/20\n",
            "389/389 - 22s - loss: 0.5190 - accuracy: 0.8410 - 22s/epoch - 56ms/step\n",
            "Epoch 4/20\n",
            "389/389 - 22s - loss: 0.3806 - accuracy: 0.8741 - 22s/epoch - 56ms/step\n",
            "Epoch 5/20\n",
            "389/389 - 31s - loss: 0.3086 - accuracy: 0.8983 - val_loss: 0.2705 - val_accuracy: 0.9125 - 31s/epoch - 80ms/step\n",
            "Epoch 6/20\n",
            "389/389 - 22s - loss: 0.2562 - accuracy: 0.9128 - 22s/epoch - 57ms/step\n",
            "Epoch 7/20\n",
            "389/389 - 24s - loss: 0.2325 - accuracy: 0.9198 - 24s/epoch - 62ms/step\n",
            "Epoch 8/20\n",
            "389/389 - 23s - loss: 0.2031 - accuracy: 0.9327 - 23s/epoch - 60ms/step\n",
            "Epoch 9/20\n",
            "389/389 - 23s - loss: 0.1804 - accuracy: 0.9387 - 23s/epoch - 60ms/step\n",
            "Epoch 10/20\n",
            "389/389 - 31s - loss: 0.1661 - accuracy: 0.9428 - val_loss: 0.3154 - val_accuracy: 0.8774 - 31s/epoch - 81ms/step\n",
            "Epoch 11/20\n",
            "389/389 - 23s - loss: 0.1520 - accuracy: 0.9482 - 23s/epoch - 59ms/step\n",
            "Epoch 12/20\n",
            "389/389 - 23s - loss: 0.1433 - accuracy: 0.9509 - 23s/epoch - 58ms/step\n",
            "Epoch 13/20\n",
            "389/389 - 22s - loss: 0.1357 - accuracy: 0.9547 - 22s/epoch - 57ms/step\n",
            "Epoch 14/20\n",
            "389/389 - 23s - loss: 0.1289 - accuracy: 0.9557 - 23s/epoch - 58ms/step\n",
            "Epoch 15/20\n",
            "389/389 - 32s - loss: 0.1197 - accuracy: 0.9609 - val_loss: 0.1188 - val_accuracy: 0.9625 - 32s/epoch - 82ms/step\n",
            "Epoch 16/20\n",
            "389/389 - 23s - loss: 0.1146 - accuracy: 0.9611 - 23s/epoch - 60ms/step\n",
            "Epoch 17/20\n",
            "389/389 - 22s - loss: 0.1082 - accuracy: 0.9647 - 22s/epoch - 58ms/step\n",
            "Epoch 18/20\n",
            "389/389 - 23s - loss: 0.1033 - accuracy: 0.9660 - 23s/epoch - 58ms/step\n",
            "Epoch 19/20\n",
            "389/389 - 22s - loss: 0.0974 - accuracy: 0.9665 - 22s/epoch - 57ms/step\n",
            "Epoch 20/20\n",
            "389/389 - 32s - loss: 0.0981 - accuracy: 0.9672 - val_loss: 0.0811 - val_accuracy: 0.9757 - 32s/epoch - 83ms/step\n"
          ]
        },
        {
          "output_type": "execute_result",
          "data": {
            "text/plain": [
              "<keras.callbacks.History at 0x7f8efacc1f90>"
            ]
          },
          "metadata": {},
          "execution_count": 13
        }
      ],
      "source": [
        "model.fit(train_data_x, train_data_y, epochs=20, verbose = 2, batch_size=20, validation_data=(test_data_x, test_data_y), validation_freq = 5)"
      ]
    },
    {
      "cell_type": "code",
      "execution_count": 14,
      "metadata": {
        "colab": {
          "base_uri": "https://localhost:8080/"
        },
        "id": "pjlO-s0O3fy5",
        "outputId": "39e2e46c-713d-48f8-8ce9-d697aa858083"
      },
      "outputs": [
        {
          "output_type": "stream",
          "name": "stdout",
          "text": [
            "243/243 - 10s - loss: 0.0811 - accuracy: 0.9757 - 10s/epoch - 39ms/step\n"
          ]
        }
      ],
      "source": [
        "test_loss, test_acc = model.evaluate(test_data_x,  test_data_y, verbose=2)"
      ]
    },
    {
      "cell_type": "code",
      "source": [
        "pred_out = model.predict(test_data_x)\n",
        "pred_labels = np.argmax(pred_out,axis=1)\n",
        "print(pred_labels)"
      ],
      "metadata": {
        "colab": {
          "base_uri": "https://localhost:8080/"
        },
        "id": "3LWGRvq7HZtt",
        "outputId": "47088839-b878-418b-cfa4-c423c851534b"
      },
      "execution_count": 16,
      "outputs": [
        {
          "output_type": "stream",
          "name": "stdout",
          "text": [
            "243/243 [==============================] - 7s 27ms/step\n",
            "[2 6 5 ... 3 6 3]\n"
          ]
        }
      ]
    },
    {
      "cell_type": "code",
      "source": [
        "combined_data_ytyr = np.transpose(np.vstack([list(pred_labels), np.transpose(test_data_y)]))\n",
        "print(combined_data_ytyr[0:10,:])"
      ],
      "metadata": {
        "colab": {
          "base_uri": "https://localhost:8080/"
        },
        "id": "9gC1-zr-MQHn",
        "outputId": "15c8a45f-c672-40bf-897c-f594fed7dce9"
      },
      "execution_count": 36,
      "outputs": [
        {
          "output_type": "stream",
          "name": "stdout",
          "text": [
            "[[ 2  2]\n",
            " [ 6  6]\n",
            " [ 5  4]\n",
            " [ 4  4]\n",
            " [ 1  1]\n",
            " [ 4  4]\n",
            " [10 10]\n",
            " [ 3  3]\n",
            " [ 6  6]\n",
            " [ 4  4]]\n"
          ]
        }
      ]
    }
  ],
  "metadata": {
    "colab": {
      "provenance": [],
      "authorship_tag": "ABX9TyMdQmw39uaVasT2CjdA/pbn",
      "include_colab_link": true
    },
    "kernelspec": {
      "display_name": "Python 3",
      "name": "python3"
    },
    "language_info": {
      "name": "python"
    }
  },
  "nbformat": 4,
  "nbformat_minor": 0
}