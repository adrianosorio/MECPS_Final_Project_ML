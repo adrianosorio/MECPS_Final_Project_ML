{
  "cells": [
    {
      "cell_type": "markdown",
      "metadata": {
        "id": "view-in-github",
        "colab_type": "text"
      },
      "source": [
        "<a href=\"https://colab.research.google.com/github/adrianosorio/MECPS_Final_Project_ML/blob/Neural_Network_Structure_shakthi/Untitled4.ipynb\" target=\"_parent\"><img src=\"https://colab.research.google.com/assets/colab-badge.svg\" alt=\"Open In Colab\"/></a>"
      ]
    },
    {
      "cell_type": "code",
      "execution_count": 24,
      "metadata": {
        "id": "Sph5mH21smbO"
      },
      "outputs": [],
      "source": [
        "# ML Imports\n",
        "import pandas as pd\n",
        "import numpy as np\n",
        "import tensorflow as tf\n",
        "from tensorflow.keras import datasets, layers, models\n",
        "tf.config.run_functions_eagerly(True)\n",
        "tf.data.experimental.enable_debug_mode()"
      ]
    },
    {
      "cell_type": "code",
      "execution_count": 25,
      "metadata": {
        "id": "ND7Qi5ruVlVP"
      },
      "outputs": [],
      "source": [
        "# Read in Train Data Set\n",
        "train_data_x = pd.read_csv(\"HAPT/Train/X_train.txt\", sep=\" \", header=None)\n",
        "train_data_y = pd.read_csv(\"HAPT/Train/y_train.txt\", sep=\" \", header=None, names = [\"y\"])\n"
      ]
    },
    {
      "cell_type": "code",
      "execution_count": 26,
      "metadata": {
        "id": "IunufAdR11gL"
      },
      "outputs": [],
      "source": [
        "# Read in Test Data Set\n",
        "test_data_x = pd.read_csv(\"HAPT/Test/X_test.txt\", sep=\" \", header=None)\n",
        "test_data_y = pd.read_csv(\"HAPT/Test/y_test.txt\", sep=\" \", header=None, names = [\"y\"])"
      ]
    },
    {
      "cell_type": "code",
      "execution_count": 27,
      "metadata": {
        "id": "F06YW9ifVv4-"
      },
      "outputs": [],
      "source": [
        "combined_data_xy = pd.concat([train_data_x, train_data_y], axis=1, join='inner')\n",
        "shuffled_data_xy = combined_data_xy.sample(frac=1, random_state=1).reset_index() # Randomization is reproducible right now\n",
        "# Split Data Set Again\n",
        "train_data_x = pd.DataFrame(shuffled_data_xy, columns=list(range(0,561)))\n",
        "train_data_y = pd.DataFrame(shuffled_data_xy, columns=['y'])\n"
      ]
    },
    {
      "cell_type": "code",
      "execution_count": 28,
      "metadata": {
        "id": "30F_uvr62lMo"
      },
      "outputs": [],
      "source": [
        "combined_data1_xy = pd.concat([test_data_x, test_data_y], axis=1, join='inner')\n",
        "shuffled_data1_xy = combined_data_xy.sample(frac=1, random_state=1).reset_index() # Randomization is reproducible right now\n",
        "# Split Data Set Again\n",
        "test_data_x = pd.DataFrame(shuffled_data1_xy, columns=list(range(0,561)))\n",
        "test_data_y = pd.DataFrame(shuffled_data1_xy, columns=['y'])"
      ]
    },
    {
      "cell_type": "code",
      "execution_count": 29,
      "metadata": {
        "colab": {
          "base_uri": "https://localhost:8080/"
        },
        "id": "OMAHcZEEVy4z",
        "outputId": "3b866578-e435-43a1-e2da-4f450ccf40a1"
      },
      "outputs": [
        {
          "output_type": "stream",
          "name": "stdout",
          "text": [
            "        0         1         2         3         4         5         6    \\\n",
            "0  0.053196 -0.003098 -0.010655 -0.403796 -0.402836 -0.425150 -0.475220   \n",
            "1  0.037819 -0.003904 -0.015017 -0.994648 -0.997604 -0.995550 -0.995272   \n",
            "2  0.040917 -0.002189 -0.015174 -0.992943 -0.982536 -0.951265 -0.993830   \n",
            "3 -0.048778  0.138520  0.125655 -0.829078 -0.774498 -0.604445 -0.824706   \n",
            "4  0.023531  0.021643 -0.017850 -0.197319 -0.205305 -0.472853 -0.283091   \n",
            "\n",
            "        7         8         9    ...       551       552       553       554  \\\n",
            "0 -0.420628 -0.505352 -0.112246  ...  0.310320 -0.733347 -0.898479 -0.355769   \n",
            "1 -0.998161 -0.996189 -0.800979  ...  0.550666 -0.765162 -0.935663 -0.094668   \n",
            "2 -0.983548 -0.954652 -0.787094  ... -0.077928 -0.583060 -0.870028 -0.128582   \n",
            "3 -0.757619 -0.631242 -0.755319  ... -0.133611 -0.313426 -0.678482  0.164486   \n",
            "4 -0.290730 -0.548919  0.019533  ...  0.156970 -0.063261 -0.424907  0.541092   \n",
            "\n",
            "        555       556       557       558       559       560  \n",
            "0  0.553913  0.970853 -0.498300 -0.491800  0.292315  0.319482  \n",
            "1 -0.489761  0.296426 -0.197174  0.392172 -0.651061 -0.308474  \n",
            "2  0.339962 -0.869047  0.271347 -0.692559  0.290720  0.115760  \n",
            "3 -0.147200  0.377053  0.078539 -0.821802  0.067347 -0.101583  \n",
            "4  0.656546  0.233713 -0.033152 -0.701628  0.293340  0.092400  \n",
            "\n",
            "[5 rows x 561 columns]\n",
            "   y\n",
            "0  2\n",
            "1  6\n",
            "2  4\n",
            "3  4\n",
            "4  1\n"
          ]
        }
      ],
      "source": [
        "print(train_data_x.head()) # Grabs first entry in the dataframe\n",
        "print(train_data_y.head()) # Grabs first entry in the dataframe\n"
      ]
    },
    {
      "cell_type": "code",
      "execution_count": 30,
      "metadata": {
        "id": "ylUTRil9JmY-"
      },
      "outputs": [],
      "source": [
        "train_data_x1 = train_data_x.values\n",
        "train_data_x1 = train_data_x1.reshape(train_data_x1.shape[0], train_data_x1.shape[1], 1)"
      ]
    },
    {
      "cell_type": "code",
      "execution_count": 48,
      "metadata": {
        "id": "oRHGscf1zK2f"
      },
      "outputs": [],
      "source": [
        "def Model_1(): #Base model\n",
        "  model = models.Sequential()\n",
        "  model.add(layers.Conv1D(64, activation='tanh',  kernel_size=(3)))\n",
        "  model.add(layers.Conv1D(32, activation='tanh',  kernel_size=(3)))\n",
        "  model.add(layers.Flatten())\n",
        "  model.add( layers.Dense(64, activation=\"relu\", name=\"dense_1\") )\n",
        "  model.add( layers.Dense(128, activation=\"sigmoid\", name=\"dense_2\") )\n",
        "  model.add( layers.Dense(13, activation=\"sigmoid\", name=\"output\") )\n",
        "  return model"
      ]
    },
    {
      "cell_type": "code",
      "execution_count": 49,
      "metadata": {
        "id": "cazYEWT5yJRV"
      },
      "outputs": [],
      "source": [
        "model.compile(optimizer=tf.keras.optimizers.SGD(), loss=\"sparse_categorical_crossentropy\", metrics=[\"accuracy\"])"
      ]
    },
    {
      "cell_type": "code",
      "execution_count": 39,
      "metadata": {
        "colab": {
          "base_uri": "https://localhost:8080/"
        },
        "id": "v-oL5M0I52iI",
        "outputId": "6abd408d-a422-4aa2-b0ff-d8defe834281"
      },
      "outputs": [
        {
          "output_type": "stream",
          "name": "stdout",
          "text": [
            "[[[ 0.05319636]\n",
            "  [-0.00309772]\n",
            "  [-0.01065488]\n",
            "  ...\n",
            "  [-0.49180021]\n",
            "  [ 0.29231514]\n",
            "  [ 0.31948165]]\n",
            "\n",
            " [[ 0.03781938]\n",
            "  [-0.00390375]\n",
            "  [-0.01501707]\n",
            "  ...\n",
            "  [ 0.39217158]\n",
            "  [-0.65106114]\n",
            "  [-0.30847448]]\n",
            "\n",
            " [[ 0.04091699]\n",
            "  [-0.00218853]\n",
            "  [-0.01517397]\n",
            "  ...\n",
            "  [-0.69255876]\n",
            "  [ 0.29071969]\n",
            "  [ 0.11576037]]\n",
            "\n",
            " ...\n",
            "\n",
            " [[ 0.01450868]\n",
            "  [ 0.06444992]\n",
            "  [-0.00167629]\n",
            "  ...\n",
            "  [-0.78391866]\n",
            "  [ 0.24564155]\n",
            "  [ 0.04987252]]\n",
            "\n",
            " [[ 0.04002912]\n",
            "  [-0.0017852 ]\n",
            "  [-0.0187598 ]\n",
            "  ...\n",
            "  [ 0.27390669]\n",
            "  [-0.57779218]\n",
            "  [-0.34130463]]\n",
            "\n",
            " [[ 0.07286258]\n",
            "  [ 0.00444614]\n",
            "  [-0.02849569]\n",
            "  ...\n",
            "  [-0.82518661]\n",
            "  [ 0.15137463]\n",
            "  [ 0.13749321]]]\n"
          ]
        }
      ],
      "source": [
        "print(train_data_x1)"
      ]
    },
    {
      "cell_type": "code",
      "execution_count": 50,
      "metadata": {
        "colab": {
          "base_uri": "https://localhost:8080/"
        },
        "id": "6I7oDWLT0Bd4",
        "outputId": "2af60820-2af5-42a2-c5e2-b7cbdbbd4bcc"
      },
      "outputs": [
        {
          "output_type": "stream",
          "name": "stdout",
          "text": [
            "Epoch 1/10\n",
            "389/389 - 22s - loss: 1.5459 - accuracy: 0.4869 - 22s/epoch - 57ms/step\n",
            "Epoch 2/10\n",
            "389/389 - 21s - loss: 0.8324 - accuracy: 0.7658 - 21s/epoch - 54ms/step\n",
            "Epoch 3/10\n",
            "389/389 - 21s - loss: 0.5324 - accuracy: 0.8369 - 21s/epoch - 55ms/step\n",
            "Epoch 4/10\n",
            "389/389 - 22s - loss: 0.3993 - accuracy: 0.8620 - 22s/epoch - 57ms/step\n",
            "Epoch 5/10\n",
            "389/389 - 30s - loss: 0.3268 - accuracy: 0.8900 - val_loss: 0.2982 - val_accuracy: 0.9005 - 30s/epoch - 76ms/step\n",
            "Epoch 6/10\n",
            "389/389 - 20s - loss: 0.2783 - accuracy: 0.9045 - 20s/epoch - 52ms/step\n",
            "Epoch 7/10\n",
            "389/389 - 20s - loss: 0.2431 - accuracy: 0.9163 - 20s/epoch - 52ms/step\n",
            "Epoch 8/10\n",
            "389/389 - 21s - loss: 0.2180 - accuracy: 0.9243 - 21s/epoch - 53ms/step\n",
            "Epoch 9/10\n",
            "389/389 - 20s - loss: 0.1983 - accuracy: 0.9301 - 20s/epoch - 52ms/step\n",
            "Epoch 10/10\n",
            "389/389 - 28s - loss: 0.1799 - accuracy: 0.9388 - val_loss: 0.1532 - val_accuracy: 0.9497 - 28s/epoch - 73ms/step\n"
          ]
        },
        {
          "output_type": "execute_result",
          "data": {
            "text/plain": [
              "<keras.callbacks.History at 0x7fee28d4a510>"
            ]
          },
          "metadata": {},
          "execution_count": 50
        }
      ],
      "source": [
        "model.fit(train_data_x1, train_data_y, epochs=10, verbose = 2, batch_size=20, validation_data=(test_data_x, test_data_y), validation_freq = 5)"
      ]
    },
    {
      "cell_type": "code",
      "execution_count": 51,
      "metadata": {
        "colab": {
          "base_uri": "https://localhost:8080/"
        },
        "id": "pjlO-s0O3fy5",
        "outputId": "17250292-df19-49ee-a8cc-72f138a7ed0f"
      },
      "outputs": [
        {
          "output_type": "stream",
          "name": "stdout",
          "text": [
            "243/243 - 6s - loss: 0.1532 - accuracy: 0.9497 - 6s/epoch - 26ms/step\n"
          ]
        }
      ],
      "source": [
        "test_loss, test_acc = model.evaluate(test_data_x,  test_data_y, verbose=2)"
      ]
    }
  ],
  "metadata": {
    "colab": {
      "provenance": [],
      "authorship_tag": "ABX9TyMM55/g8firbra+GTGtqEfr",
      "include_colab_link": true
    },
    "kernelspec": {
      "display_name": "Python 3",
      "name": "python3"
    },
    "language_info": {
      "name": "python"
    }
  },
  "nbformat": 4,
  "nbformat_minor": 0
}