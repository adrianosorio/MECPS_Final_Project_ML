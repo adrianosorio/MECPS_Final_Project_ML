{
  "nbformat": 4,
  "nbformat_minor": 0,
  "metadata": {
    "colab": {
      "provenance": [],
      "authorship_tag": "ABX9TyMTcilt5qN7nTm09St+fLV2",
      "include_colab_link": true
    },
    "kernelspec": {
      "name": "python3",
      "display_name": "Python 3"
    },
    "language_info": {
      "name": "python"
    }
  },
  "cells": [
    {
      "cell_type": "markdown",
      "metadata": {
        "id": "view-in-github",
        "colab_type": "text"
      },
      "source": [
        "<a href=\"https://colab.research.google.com/github/adrianosorio/MECPS_Final_Project_ML/blob/data_preprocessing_adrian/Metrics.ipynb\" target=\"_parent\"><img src=\"https://colab.research.google.com/assets/colab-badge.svg\" alt=\"Open In Colab\"/></a>"
      ]
    },
    {
      "cell_type": "code",
      "source": [
        "# ML Imports\n",
        "import pandas as pd\n",
        "import seaborn as sns\n",
        "import numpy as np\n",
        "import datetime\n",
        "\n",
        "import tensorflow as tf\n",
        "from tensorflow.keras import datasets, layers, models\n",
        "from tensorflow.keras.models import load_model\n",
        "tf.config.run_functions_eagerly(True)\n",
        "tf.data.experimental.enable_debug_mode()\n",
        "\n",
        "from matplotlib import pyplot as plt\n",
        "\n",
        "from sklearn import metrics\n"
      ],
      "metadata": {
        "id": "dKgGIs2ChZKd"
      },
      "execution_count": 101,
      "outputs": []
    },
    {
      "cell_type": "code",
      "execution_count": 76,
      "metadata": {
        "colab": {
          "base_uri": "https://localhost:8080/"
        },
        "id": "-Vldwn-FX-gL",
        "outputId": "e155d166-cae2-4659-ec2c-3aa427641144"
      },
      "outputs": [
        {
          "output_type": "stream",
          "name": "stdout",
          "text": [
            "Train data Y:        y\n",
            "0     4\n",
            "1     4\n",
            "2     4\n",
            "3     4\n",
            "4     4\n",
            "...  ..\n",
            "7762  1\n",
            "7763  1\n",
            "7764  1\n",
            "7765  1\n",
            "7766  1\n",
            "\n",
            "[7767 rows x 1 columns]\n",
            "        0         1         2         3         4         5         6    \\\n",
            "0  0.053196 -0.003098 -0.010655 -0.403796 -0.402836 -0.425150 -0.475220   \n",
            "1  0.037819 -0.003904 -0.015017 -0.994648 -0.997604 -0.995550 -0.995272   \n",
            "2  0.040917 -0.002189 -0.015174 -0.992943 -0.982536 -0.951265 -0.993830   \n",
            "3 -0.048778  0.138520  0.125655 -0.829078 -0.774498 -0.604445 -0.824706   \n",
            "4  0.023531  0.021643 -0.017850 -0.197319 -0.205305 -0.472853 -0.283091   \n",
            "\n",
            "        7         8         9    ...       551       552       553       554  \\\n",
            "0 -0.420628 -0.505352 -0.112246  ...  0.310320 -0.733347 -0.898479 -0.355769   \n",
            "1 -0.998161 -0.996189 -0.800979  ...  0.550666 -0.765162 -0.935663 -0.094668   \n",
            "2 -0.983548 -0.954652 -0.787094  ... -0.077928 -0.583060 -0.870028 -0.128582   \n",
            "3 -0.757619 -0.631242 -0.755319  ... -0.133611 -0.313426 -0.678482  0.164486   \n",
            "4 -0.290730 -0.548919  0.019533  ...  0.156970 -0.063261 -0.424907  0.541092   \n",
            "\n",
            "        555       556       557       558       559       560  \n",
            "0  0.553913  0.970853 -0.498300 -0.491800  0.292315  0.319482  \n",
            "1 -0.489761  0.296426 -0.197174  0.392172 -0.651061 -0.308474  \n",
            "2  0.339962 -0.869047  0.271347 -0.692559  0.290720  0.115760  \n",
            "3 -0.147200  0.377053  0.078539 -0.821802  0.067347 -0.101583  \n",
            "4  0.656546  0.233713 -0.033152 -0.701628  0.293340  0.092400  \n",
            "\n",
            "[5 rows x 561 columns]\n",
            "   y\n",
            "0  1\n",
            "1  5\n",
            "2  3\n",
            "3  3\n",
            "4  0\n",
            "           0         1         2         3         4         5         6    \\\n",
            "0     0.053196 -0.003098 -0.010655 -0.403796 -0.402836 -0.425150 -0.475220   \n",
            "1     0.037819 -0.003904 -0.015017 -0.994648 -0.997604 -0.995550 -0.995272   \n",
            "2     0.040917 -0.002189 -0.015174 -0.992943 -0.982536 -0.951265 -0.993830   \n",
            "3    -0.048778  0.138520  0.125655 -0.829078 -0.774498 -0.604445 -0.824706   \n",
            "4     0.023531  0.021643 -0.017850 -0.197319 -0.205305 -0.472853 -0.283091   \n",
            "...        ...       ...       ...       ...       ...       ...       ...   \n",
            "7762  0.038030 -0.012812 -0.008031 -0.995721 -0.981442 -0.976438 -0.995804   \n",
            "7763  0.038132 -0.000617 -0.015581 -0.997237 -0.996683 -0.997564 -0.997700   \n",
            "7764  0.014509  0.064450 -0.001676  0.210315 -0.097967 -0.501854  0.129633   \n",
            "7765  0.040029 -0.001785 -0.018760 -0.995071 -0.997507 -0.995778 -0.994943   \n",
            "7766  0.072863  0.004446 -0.028496  0.046019 -0.182582 -0.058565 -0.038421   \n",
            "\n",
            "           7         8         9    ...       551       552       553  \\\n",
            "0    -0.420628 -0.505352 -0.112246  ...  0.310320 -0.733347 -0.898479   \n",
            "1    -0.998161 -0.996189 -0.800979  ...  0.550666 -0.765162 -0.935663   \n",
            "2    -0.983548 -0.954652 -0.787094  ... -0.077928 -0.583060 -0.870028   \n",
            "3    -0.757619 -0.631242 -0.755319  ... -0.133611 -0.313426 -0.678482   \n",
            "4    -0.290730 -0.548919  0.019533  ...  0.156970 -0.063261 -0.424907   \n",
            "...        ...       ...       ...  ...       ...       ...       ...   \n",
            "7762 -0.981857 -0.978620 -0.799275  ...  0.275197 -0.393352 -0.735454   \n",
            "7763 -0.996853 -0.997289 -0.798517  ...  0.239113 -0.306866 -0.615947   \n",
            "7764 -0.139970 -0.586753  0.581186  ...  0.181245 -0.244225 -0.672573   \n",
            "7765 -0.996797 -0.997112 -0.799047  ...  0.460746 -0.804978 -0.978790   \n",
            "7766 -0.163970 -0.230640  0.411203  ...  0.165858 -0.609714 -0.859668   \n",
            "\n",
            "           554       555       556       557       558       559       560  \n",
            "0    -0.355769  0.553913  0.970853 -0.498300 -0.491800  0.292315  0.319482  \n",
            "1    -0.094668 -0.489761  0.296426 -0.197174  0.392172 -0.651061 -0.308474  \n",
            "2    -0.128582  0.339962 -0.869047  0.271347 -0.692559  0.290720  0.115760  \n",
            "3     0.164486 -0.147200  0.377053  0.078539 -0.821802  0.067347 -0.101583  \n",
            "4     0.541092  0.656546  0.233713 -0.033152 -0.701628  0.293340  0.092400  \n",
            "...        ...       ...       ...       ...       ...       ...       ...  \n",
            "7762 -0.007988  0.080741 -0.363557 -0.779950 -0.851642  0.079719 -0.082455  \n",
            "7763 -0.066236  0.021729 -0.255753  0.507029 -0.656182 -0.067301 -0.153555  \n",
            "7764  0.355405  0.577423  0.907553  0.920380 -0.783919  0.245642  0.049873  \n",
            "7765 -0.807033 -0.042024  0.355912 -0.683520  0.273907 -0.577792 -0.341305  \n",
            "7766 -0.801168  0.558595  0.664164  0.961413 -0.825187  0.151375  0.137493  \n",
            "\n",
            "[7767 rows x 561 columns]\n"
          ]
        }
      ],
      "source": [
        "# Data Processing/Loading\n",
        "\n",
        "# Y data has been changed to start at 0-11\n",
        "\n",
        "# Read in Train Data Set\n",
        "train_data_x = pd.read_csv(\"HAPT/Train/X_train.txt\", sep=\" \", header=None)\n",
        "train_data_y = pd.read_csv(\"HAPT/Train/y_train.txt\", sep=\" \", header=None, names = [\"y\"])\n",
        "# Keep labels in range 0-11 translates to 1-12 if you add one\n",
        "subbyone = np.ones((train_data_y.shape[0], 1))\n",
        "train_data_y = np.subtract(train_data_y, subbyone)\n",
        "train_data_y = train_data_y.astype(int)\n",
        "print(\"Train data Y: \", train_data_y)\n",
        "\n",
        "# Read in Test Data Set\n",
        "test_data_x = pd.read_csv(\"HAPT/Test/X_test.txt\", sep=\" \", header=None)\n",
        "test_data_y = pd.read_csv(\"HAPT/Test/y_test.txt\", sep=\" \", header=None, names = [\"y\"])\n",
        "subbyone = np.ones((test_data_y.shape[0], 1))\n",
        "test_data_y = np.subtract(test_data_y, subbyone)\n",
        "test_data_y = test_data_y.astype(int)\n",
        "\n",
        "combined_data_xy = pd.concat([train_data_x, train_data_y], axis=1, join='inner')\n",
        "shuffled_data_xy = combined_data_xy.sample(frac=1, random_state=1).reset_index() # Randomization is reproducible right now\n",
        "\n",
        "# Split Data Set Again\n",
        "train_data_x = pd.DataFrame(shuffled_data_xy, columns=list(range(0,561)))\n",
        "train_data_y = pd.DataFrame(shuffled_data_xy, columns=['y'])\n",
        "combined_data1_xy = pd.concat([test_data_x, test_data_y], axis=1, join='inner')\n",
        "shuffled_data1_xy = combined_data_xy.sample(frac=1, random_state=1).reset_index() # Randomization is reproducible right now\n",
        "\n",
        "# Split Data Set Again\n",
        "test_data_x = pd.DataFrame(shuffled_data1_xy, columns=list(range(0,561)))\n",
        "test_data_y = pd.DataFrame(shuffled_data1_xy, columns=['y'])\n",
        "print(train_data_x.head()) # Grabs first entry in the dataframe\n",
        "print(train_data_y.head()) # Grabs first entry in the dataframe\n",
        "\n",
        "# Formatting Data\n",
        "train_data_x1 = train_data_x.values\n",
        "train_data_x1 = train_data_x1.reshape(train_data_x1.shape[0], train_data_x1.shape[1], 1)\n",
        "\n",
        "print(test_data_x)"
      ]
    },
    {
      "cell_type": "code",
      "source": [
        "\n",
        "#def Model_1(): #Base model\n",
        "model = models.Sequential()\n",
        "model.add(layers.Conv1D(64, activation='tanh',  kernel_size=(3)))\n",
        "model.add(layers.Conv1D(32, activation='tanh',  kernel_size=(3)))\n",
        "model.add(layers.Flatten())\n",
        "model.add( layers.Dense(64, activation=\"relu\") )\n",
        "model.add( layers.Dense(128, activation=\"sigmoid\") )\n",
        "model.add( layers.Dense(12, activation=\"sigmoid\") )\n",
        " # return model\n",
        "model.compile(optimizer=tf.keras.optimizers.SGD(), loss=\"sparse_categorical_crossentropy\", metrics=[\"accuracy\"])\n",
        "print(train_data_x1.shape)\n",
        "# validation_data=(test_data_x, test_data_y), validation_freq = 5"
      ],
      "metadata": {
        "colab": {
          "base_uri": "https://localhost:8080/"
        },
        "id": "HmHudflrYd5V",
        "outputId": "ab4aa1f8-2324-472f-e99f-57cc81b18a7c"
      },
      "execution_count": 77,
      "outputs": [
        {
          "output_type": "stream",
          "name": "stdout",
          "text": [
            "(7767, 561, 1)\n"
          ]
        }
      ]
    },
    {
      "cell_type": "code",
      "source": [
        "epochs = 20 \n",
        "bs = 20\n",
        "# filepath = \"model.{epoch:02d}.hdf5\"\n",
        "# validation_data=(test_data_x, test_data_y), validation_freq = 5\n",
        "# Fit Model\n",
        "history = model.fit(train_data_x1, train_data_y, epochs=epochs, verbose = 2, batch_size=bs)"
      ],
      "metadata": {
        "colab": {
          "base_uri": "https://localhost:8080/"
        },
        "id": "b4vNwqo9Ymy4",
        "outputId": "065cdbf0-5168-4ef3-e770-78b78452a368"
      },
      "execution_count": 79,
      "outputs": [
        {
          "output_type": "stream",
          "name": "stdout",
          "text": [
            "Epoch 1/20\n",
            "389/389 - 23s - loss: 1.2980 - accuracy: 0.5973 - 23s/epoch - 60ms/step\n",
            "Epoch 2/20\n",
            "389/389 - 22s - loss: 0.7076 - accuracy: 0.8008 - 22s/epoch - 57ms/step\n",
            "Epoch 3/20\n",
            "389/389 - 24s - loss: 0.4565 - accuracy: 0.8567 - 24s/epoch - 61ms/step\n",
            "Epoch 4/20\n",
            "389/389 - 23s - loss: 0.3476 - accuracy: 0.8839 - 23s/epoch - 59ms/step\n",
            "Epoch 5/20\n",
            "389/389 - 22s - loss: 0.2869 - accuracy: 0.9038 - 22s/epoch - 57ms/step\n",
            "Epoch 6/20\n",
            "389/389 - 22s - loss: 0.2497 - accuracy: 0.9119 - 22s/epoch - 57ms/step\n",
            "Epoch 7/20\n",
            "389/389 - 23s - loss: 0.2137 - accuracy: 0.9260 - 23s/epoch - 60ms/step\n",
            "Epoch 8/20\n",
            "389/389 - 23s - loss: 0.1914 - accuracy: 0.9345 - 23s/epoch - 59ms/step\n",
            "Epoch 9/20\n",
            "389/389 - 22s - loss: 0.1692 - accuracy: 0.9417 - 22s/epoch - 56ms/step\n",
            "Epoch 10/20\n",
            "389/389 - 22s - loss: 0.1600 - accuracy: 0.9443 - 22s/epoch - 56ms/step\n",
            "Epoch 11/20\n",
            "389/389 - 22s - loss: 0.1473 - accuracy: 0.9488 - 22s/epoch - 57ms/step\n",
            "Epoch 12/20\n",
            "389/389 - 22s - loss: 0.1335 - accuracy: 0.9562 - 22s/epoch - 57ms/step\n",
            "Epoch 13/20\n",
            "389/389 - 23s - loss: 0.1290 - accuracy: 0.9552 - 23s/epoch - 58ms/step\n",
            "Epoch 14/20\n",
            "389/389 - 22s - loss: 0.1209 - accuracy: 0.9592 - 22s/epoch - 57ms/step\n",
            "Epoch 15/20\n",
            "389/389 - 22s - loss: 0.1115 - accuracy: 0.9630 - 22s/epoch - 57ms/step\n",
            "Epoch 16/20\n",
            "389/389 - 24s - loss: 0.1066 - accuracy: 0.9624 - 24s/epoch - 61ms/step\n",
            "Epoch 17/20\n",
            "389/389 - 23s - loss: 0.1011 - accuracy: 0.9656 - 23s/epoch - 60ms/step\n",
            "Epoch 18/20\n",
            "389/389 - 22s - loss: 0.1004 - accuracy: 0.9645 - 22s/epoch - 56ms/step\n",
            "Epoch 19/20\n",
            "389/389 - 22s - loss: 0.0928 - accuracy: 0.9696 - 22s/epoch - 56ms/step\n",
            "Epoch 20/20\n",
            "389/389 - 22s - loss: 0.0892 - accuracy: 0.9708 - 22s/epoch - 56ms/step\n"
          ]
        }
      ]
    },
    {
      "cell_type": "code",
      "source": [
        "test_loss, test_acc = model.evaluate(test_data_x,  test_data_y, verbose=2)"
      ],
      "metadata": {
        "colab": {
          "base_uri": "https://localhost:8080/"
        },
        "id": "jf5RccGLfP-p",
        "outputId": "cbdb0fe6-c4ba-4853-d039-b2ccc67569e3"
      },
      "execution_count": 80,
      "outputs": [
        {
          "output_type": "stream",
          "name": "stdout",
          "text": [
            "243/243 - 7s - loss: 0.0844 - accuracy: 0.9728 - 7s/epoch - 28ms/step\n"
          ]
        }
      ]
    },
    {
      "cell_type": "code",
      "source": [
        "# Save Model and history:\n",
        "now = datetime.datetime.now()\n",
        "\n",
        "model_name = \"trained_model_\" + now.strftime(\"%A_%b_%H_%p_%M_%S\") + \".h5\"\n",
        "model.save(model_name)\n",
        "print(\"Model has been saved as \", model_name)\n",
        "history_file_name = \"model_history_\" + now.strftime(\"%A_%b_%H_%p_%M_%S\") + \".npy\"\n",
        "print(history.history)\n",
        "np.save(history_file_name, history.history)\n",
        "print(\"Model History has been saved as \", history_file_name)"
      ],
      "metadata": {
        "colab": {
          "base_uri": "https://localhost:8080/"
        },
        "id": "zmJSP7m3ffrX",
        "outputId": "9335ce87-a070-4777-afcb-d26723c795c6"
      },
      "execution_count": 83,
      "outputs": [
        {
          "output_type": "stream",
          "name": "stdout",
          "text": [
            "Model has been saved as  trained_model_Thursday_Dec_20_PM_18_57.h5\n",
            "{'loss': [1.2979776859283447, 0.7076451182365417, 0.4565187990665436, 0.34762316942214966, 0.28686729073524475, 0.24967487156391144, 0.21370282769203186, 0.1913553923368454, 0.16920357942581177, 0.15997610986232758, 0.14729340374469757, 0.13351765275001526, 0.12903474271297455, 0.12087235599756241, 0.11151648312807083, 0.10664059966802597, 0.10114023089408875, 0.10037125647068024, 0.09283295273780823, 0.0892268717288971], 'accuracy': [0.5972704887390137, 0.800823986530304, 0.8567014336585999, 0.883867621421814, 0.9038238525390625, 0.9119350910186768, 0.9259688258171082, 0.9344663023948669, 0.9416763186454773, 0.944251298904419, 0.9487575888633728, 0.9562250375747681, 0.9551950693130493, 0.959186315536499, 0.9630488157272339, 0.9624050259590149, 0.9656237959861755, 0.9644650220870972, 0.9696150422096252, 0.9707738161087036]}\n",
            "Model History has been saved as  model_history_Thursday_Dec_20_PM_18_57.npy\n"
          ]
        }
      ]
    },
    {
      "cell_type": "code",
      "source": [
        "load_model_file_name = \"trained_model_Thursday_Dec_20_PM_18_57.h5\" # trained_model_1669911911.7536962.h5\n",
        "load_history_file_name = \"model_history_Thursday_Dec_20_PM_18_57.npy\" # \n",
        "loaded_model = None\n",
        "loaded_history = None\n",
        "if not (load_model_file_name == None):\n",
        "  loaded_model = load_model(load_model_file_name)\n",
        "  loaded_model.summary()\n",
        "  loaded_history = np.load(load_history_file_name, allow_pickle='true').item()\n",
        "  print(loaded_history)\n"
      ],
      "metadata": {
        "colab": {
          "base_uri": "https://localhost:8080/"
        },
        "id": "FuD-cftOgjel",
        "outputId": "18166abd-78f2-40bb-ef8a-10e29f6cb4aa"
      },
      "execution_count": 84,
      "outputs": [
        {
          "output_type": "stream",
          "name": "stdout",
          "text": [
            "Model: \"sequential_2\"\n",
            "_________________________________________________________________\n",
            " Layer (type)                Output Shape              Param #   \n",
            "=================================================================\n",
            " conv1d_4 (Conv1D)           (None, 559, 64)           256       \n",
            "                                                                 \n",
            " conv1d_5 (Conv1D)           (None, 557, 32)           6176      \n",
            "                                                                 \n",
            " flatten_2 (Flatten)         (None, 17824)             0         \n",
            "                                                                 \n",
            " dense_6 (Dense)             (None, 64)                1140800   \n",
            "                                                                 \n",
            " dense_7 (Dense)             (None, 128)               8320      \n",
            "                                                                 \n",
            " dense_8 (Dense)             (None, 12)                1548      \n",
            "                                                                 \n",
            "=================================================================\n",
            "Total params: 1,157,100\n",
            "Trainable params: 1,157,100\n",
            "Non-trainable params: 0\n",
            "_________________________________________________________________\n",
            "{'loss': [1.2979776859283447, 0.7076451182365417, 0.4565187990665436, 0.34762316942214966, 0.28686729073524475, 0.24967487156391144, 0.21370282769203186, 0.1913553923368454, 0.16920357942581177, 0.15997610986232758, 0.14729340374469757, 0.13351765275001526, 0.12903474271297455, 0.12087235599756241, 0.11151648312807083, 0.10664059966802597, 0.10114023089408875, 0.10037125647068024, 0.09283295273780823, 0.0892268717288971], 'accuracy': [0.5972704887390137, 0.800823986530304, 0.8567014336585999, 0.883867621421814, 0.9038238525390625, 0.9119350910186768, 0.9259688258171082, 0.9344663023948669, 0.9416763186454773, 0.944251298904419, 0.9487575888633728, 0.9562250375747681, 0.9551950693130493, 0.959186315536499, 0.9630488157272339, 0.9624050259590149, 0.9656237959861755, 0.9644650220870972, 0.9696150422096252, 0.9707738161087036]}\n"
          ]
        }
      ]
    },
    {
      "cell_type": "code",
      "source": [
        "# Plotting of Metrics\n",
        "# Plot Loss\n",
        "x_axis_epochs = [i for i in range(1, 21)] # TODO incorporate validation loss\n",
        "plt.plot(x_axis_epochs, loaded_history['loss'], color=\"red\", marker='o', linewidth=2, markersize=4)\n",
        "plt.title(\"CNN Model Training Loss over Epochs\")\n",
        "plt.ylabel('Loss')\n",
        "plt.xlabel('Epochs')\n",
        "plt.legend([\"train\"], loc = 'upper right')\n",
        "fig_name = load_model_file_name + \"_Loss.png\"\n",
        "plt.savefig(fig_name)\n",
        "plt.cla()\n",
        "plt.clf()\n",
        "# Plot Accuracy\n",
        "plt.plot(x_axis_epochs, loaded_history['accuracy'], color=\"green\", marker='o', linewidth=2, markersize=4)\n",
        "plt.title(\"CNN Model Training Accuracy over Epochs\")\n",
        "plt.ylabel('Accuracy')\n",
        "plt.xlabel('Epochs')\n",
        "plt.legend([\"train\"], loc = 'upper left')\n",
        "fig_name = load_model_file_name + \"_Acc.png\"\n",
        "plt.savefig(fig_name)\n",
        "plt.cla()\n",
        "plt.clf()"
      ],
      "metadata": {
        "colab": {
          "base_uri": "https://localhost:8080/",
          "height": 35
        },
        "id": "WwdYmI_Qw-b9",
        "outputId": "d15709a2-000d-4005-faa5-d963ce95afb6"
      },
      "execution_count": 85,
      "outputs": [
        {
          "output_type": "display_data",
          "data": {
            "text/plain": [
              "<Figure size 432x288 with 0 Axes>"
            ]
          },
          "metadata": {}
        }
      ]
    },
    {
      "cell_type": "code",
      "source": [
        "# Confusion Matrix Generation\n",
        "predictions = loaded_model.predict(test_data_x)"
      ],
      "metadata": {
        "colab": {
          "base_uri": "https://localhost:8080/"
        },
        "id": "xSv2Nnqm82S9",
        "outputId": "c738f5d7-5fdd-4e95-bef0-9acc2abeb1b8"
      },
      "execution_count": 86,
      "outputs": [
        {
          "output_type": "stream",
          "name": "stdout",
          "text": [
            "243/243 [==============================] - 7s 28ms/step\n"
          ]
        }
      ]
    },
    {
      "cell_type": "code",
      "source": [
        "print(test_data_y.shape)\n",
        "print(test_data_y.shape)\n",
        "print(test_data_y)\n",
        "pred_classes = np.zeros((predictions.shape[0], 1))\n",
        "print(predictions[0])\n",
        "for entry in range(test_data_y.shape[0]):\n",
        "  pred_classes[entry] = np.argmax(predictions[entry,:])\n",
        "pred_classes = pred_classes\n",
        "print(pred_classes)\n",
        "conf_matrix = metrics.confusion_matrix(test_data_y, pred_classes)\n",
        "confusion_matrix_normalize = np.around(conf_matrix.astype('float')/conf_matrix.sum(axis=1)[:,np.newaxis],decimals=2)\n",
        "classes = [\"WALKING\", \"WALKING_UPSTAIRS\", \"WALKING_DOWNSTAIRS\", \"SITTING\"\n",
        "          ,\"STANDING\", \"LAYING\", \"STAND_TO_SIT\", \"SIT_TO_STAND\", \"SIT_TO_LIE\", \n",
        "           \"LIE_TO_SIT\", \"STAND_TO_LIE\", \"LIE_TO_STAND\"]\n",
        "conf_mat_df = pd.DataFrame(confusion_matrix_normalize, index = classes, columns = classes)\n",
        "figure = plt.figure(figsize=(8,8))\n",
        "sns.heatmap(conf_mat_df, annot=True, cmap=plt.cm.Blues)\n",
        "plt.tight_layout()\n",
        "plt.ylabel('True Label')\n",
        "plt.xlabel('Predicted Label')\n",
        "fig_name = load_model_file_name + \"_Conf_Matrix.png\"\n",
        "plt.savefig(fig_name)\n",
        "plt.cla()\n",
        "plt.clf()\n"
      ],
      "metadata": {
        "colab": {
          "base_uri": "https://localhost:8080/",
          "height": 1000
        },
        "id": "mkcFeoBFBJ_M",
        "outputId": "56e6d45a-e9dc-4c74-97f6-8ae94201f86c"
      },
      "execution_count": 105,
      "outputs": [
        {
          "output_type": "stream",
          "name": "stdout",
          "text": [
            "(7767, 1)\n",
            "(7767, 1)\n",
            "      y\n",
            "0     1\n",
            "1     5\n",
            "2     3\n",
            "3     3\n",
            "4     0\n",
            "...  ..\n",
            "7762  4\n",
            "7763  3\n",
            "7764  2\n",
            "7765  5\n",
            "7766  2\n",
            "\n",
            "[7767 rows x 1 columns]\n",
            "[0.68566924 0.9998313  0.69067985 0.01917299 0.16019629 0.05111301\n",
            " 0.7466633  0.35011497 0.50317377 0.48395425 0.6134105  0.28518915]\n",
            "[[1.]\n",
            " [5.]\n",
            " [3.]\n",
            " ...\n",
            " [2.]\n",
            " [5.]\n",
            " [2.]]\n"
          ]
        },
        {
          "output_type": "display_data",
          "data": {
            "text/plain": [
              "<Figure size 576x576 with 2 Axes>"
            ],
            "image/png": "[encoded data removed]"
          },
          "metadata": {
            "needs_background": "light"
          }
        }
      ]
    },
    {
      "cell_type": "code",
      "source": [
        "unique, frequency = np.unique(train_data_y, return_counts = True)\n",
        "plt.bar(classes, frequency)\n",
        "plt.xticks(ticks=range(len(classes)), labels=classes, rotation=90)\n",
        "plt.title(\"HAPT Dataset Frequency per class\")\n",
        "plt.ylabel('Frequency')\n",
        "plt.xlabel('Class')\n",
        "fig_name = load_model_file_name + \"_Frequency.png\"\n",
        "plt.savefig(fig_name)\n",
        "#plt.cla()\n",
        "#plt.clf()"
      ],
      "metadata": {
        "colab": {
          "base_uri": "https://localhost:8080/",
          "height": 404
        },
        "id": "UdgKCGdFiEz_",
        "outputId": "de2332bc-8171-4a16-ce78-dcfdecf3ee50"
      },
      "execution_count": 110,
      "outputs": [
        {
          "output_type": "display_data",
          "data": {
            "text/plain": [
              "<Figure size 432x288 with 1 Axes>"
            ],
            "image/png": "[encoded data removed]"
          },
          "metadata": {
            "needs_background": "light"
          }
        }
      ]
    }
  ]
}